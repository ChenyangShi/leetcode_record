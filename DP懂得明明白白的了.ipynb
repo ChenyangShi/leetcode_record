{
 "cells": [
  {
   "cell_type": "code",
   "execution_count": 1,
   "metadata": {},
   "outputs": [
    {
     "name": "stdout",
     "output_type": "stream",
     "text": [
      "15.0\n",
      "15\n"
     ]
    }
   ],
   "source": [
    "import numpy as np\n",
    "arr =[3, 34, 4, 12, 5, 2]\n",
    "arr2 = [1, 2, 4, 1, 7, 8, 3]\n",
    "\n",
    "#不相邻数字的最大和\n",
    "def rec_opt(arr, i):\n",
    "    if i == 0:\n",
    "        return arr[0]\n",
    "    elif i == 1:\n",
    "        return max(arr[0], arr[1])\n",
    "    else:\n",
    "        A = rec_opt(arr, i-2) + arr[i] # 选\n",
    "        B = rec_opt(arr, i-1) # 不选\n",
    "        return max(A, B)\n",
    "\n",
    "def dp_opt(arr):\n",
    "    opt = np.zeros(len(arr))\n",
    "    opt[0] = arr[0]\n",
    "    opt[1] = max(arr[0], arr[1])\n",
    "    for i in range(2, len(arr)):\n",
    "        A = opt[i-2] + arr[i]\n",
    "        B = opt[i-1]\n",
    "        opt[i] = max(A, B)\n",
    "\n",
    "    return opt[ len(arr)-1 ]\n",
    "\n",
    "\n",
    "print(dp_opt(arr2))\n",
    "print(rec_opt(arr2, len(arr2)-1))"
   ]
  },
  {
   "cell_type": "code",
   "execution_count": 2,
   "metadata": {},
   "outputs": [
    {
     "name": "stdout",
     "output_type": "stream",
     "text": [
      "True\n",
      "False\n"
     ]
    }
   ],
   "source": [
    "# 是否能选出数字使得其之和等于s       \n",
    "def rec_subset(arr, i, s):\n",
    "    if s == 0:\n",
    "        return True\n",
    "    elif i == 0:\n",
    "        return arr[0] == s\n",
    "    elif arr[i] > s:\n",
    "        return rec_subset(arr, i-1, s)\n",
    "    else:\n",
    "        A = rec_subset(arr, i-1, s-arr[i]) #select\n",
    "        B = rec_subset(arr, i-1, s) #not select\n",
    "        return A or B\n",
    "\n",
    "def dp_subset(arr, s):\n",
    "    subset = np.zeros((len(arr), s+1), dtype=bool)\n",
    "    subset[:,0] = True\n",
    "    subset[0,:] = False\n",
    "    subset[0, arr[0]] = True\n",
    "    for i in range(1, len(arr)):\n",
    "        for j in range(1, s+1):\n",
    "            if arr[i] > s:\n",
    "                subset[i, s] = subset[i-1, s]\n",
    "            else:\n",
    "                A = subset[i-1, s-arr[i]] #select\n",
    "                B = subset[i-1, s] #not select\n",
    "                subset[i, s] = A or B\n",
    "\n",
    "    r, c = subset.shape\n",
    "    return subset[r-1, c-1]\n",
    "\n",
    "print(rec_subset(arr, len(arr)-1, 9))\n",
    "print(dp_subset(arr, 13))"
   ]
  }
 ],
 "metadata": {
  "kernelspec": {
   "display_name": "Python 3",
   "language": "python",
   "name": "python3"
  },
  "language_info": {
   "codemirror_mode": {
    "name": "ipython",
    "version": 3
   },
   "file_extension": ".py",
   "mimetype": "text/x-python",
   "name": "python",
   "nbconvert_exporter": "python",
   "pygments_lexer": "ipython3",
   "version": "3.5.5"
  }
 },
 "nbformat": 4,
 "nbformat_minor": 2
}
